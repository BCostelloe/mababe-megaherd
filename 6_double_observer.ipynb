{
 "cells": [
  {
   "cell_type": "markdown",
   "id": "a07eac6f-eeee-4690-a11a-41908f80ffa5",
   "metadata": {},
   "source": [
    "This notebook contains the code for the double observer analysis, which we used to estimate the detection probability of the human reviewer in the second round of review. This analysis was based on the procedure described in:\n",
    "\n",
    "Nichols, J.D., Hines, J.E., Sauer J.R., Fallon, F.W., Fallon, J.E. and Heglund, P.J. 2000. A double-observer approach for estimating detection probability and abundance from point counts. *The Auk* 117(2):393-408.\n",
    "\n",
    "For context: All of the 95 tracked clips generated from the original video were reviewed by 3 human reviewers in a first round of review. The reviewers each counted how many buffalo the automated tracking algorithm missed (as well as double-counts and non-buffalo). These reviewers disagreed on the number of buffalo missed for 34 of the clips. These 34 clips were all re-reviewed by one reviewer (BRC) in a second round of review. Another reviewer (BK) then reviewed ~20% (n = 8) of these clips so that we could conduct a double observer analysis to quantify BRC's probability of detecting missed buffalo.\n",
    "\n",
    "The 8 clips in this analysis were randomly selected, and each reviewer (BK and BRC) was randomly assigned as the primary observer for 4 clips:\n",
    "\n",
    "- output_video_0_15 - BRC primary\n",
    "- output_video_1_4 - BRC primary\n",
    "- output_video_1_9 - BK primary\n",
    "- output_video_1_11 - BRC primary\n",
    "- output_video_1_12 - BK primary\n",
    "- output_video_1_17 - BRC primary\n",
    "- output_video_2_11 - BK primary\n",
    "- output_video_4_1 - BK primary"
   ]
  },
  {
   "cell_type": "code",
   "execution_count": 6,
   "id": "70924a38-ca3b-4d00-9fa7-8b1b6b5e1698",
   "metadata": {},
   "outputs": [],
   "source": [
    "import pandas as pd"
   ]
  },
  {
   "cell_type": "code",
   "execution_count": 7,
   "id": "f92ab48d-618d-454c-b2c5-7963b7b296ee",
   "metadata": {},
   "outputs": [
    {
     "data": {
      "text/html": [
       "<div>\n",
       "<style scoped>\n",
       "    .dataframe tbody tr th:only-of-type {\n",
       "        vertical-align: middle;\n",
       "    }\n",
       "\n",
       "    .dataframe tbody tr th {\n",
       "        vertical-align: top;\n",
       "    }\n",
       "\n",
       "    .dataframe thead th {\n",
       "        text-align: right;\n",
       "    }\n",
       "</style>\n",
       "<table border=\"1\" class=\"dataframe\">\n",
       "  <thead>\n",
       "    <tr style=\"text-align: right;\">\n",
       "      <th></th>\n",
       "      <th>clip</th>\n",
       "      <th>count_BRC</th>\n",
       "      <th>count_BK</th>\n",
       "      <th>primary_observer</th>\n",
       "      <th>primary_count</th>\n",
       "      <th>secondary_count</th>\n",
       "    </tr>\n",
       "  </thead>\n",
       "  <tbody>\n",
       "    <tr>\n",
       "      <th>0</th>\n",
       "      <td>output_video_0_15</td>\n",
       "      <td>3</td>\n",
       "      <td>3</td>\n",
       "      <td>BRC</td>\n",
       "      <td>3</td>\n",
       "      <td>0</td>\n",
       "    </tr>\n",
       "    <tr>\n",
       "      <th>1</th>\n",
       "      <td>output_video_1_4</td>\n",
       "      <td>18</td>\n",
       "      <td>18</td>\n",
       "      <td>BRC</td>\n",
       "      <td>18</td>\n",
       "      <td>0</td>\n",
       "    </tr>\n",
       "    <tr>\n",
       "      <th>2</th>\n",
       "      <td>output_video_1_9</td>\n",
       "      <td>17</td>\n",
       "      <td>16</td>\n",
       "      <td>BK</td>\n",
       "      <td>16</td>\n",
       "      <td>1</td>\n",
       "    </tr>\n",
       "    <tr>\n",
       "      <th>3</th>\n",
       "      <td>output_video_1_11</td>\n",
       "      <td>17</td>\n",
       "      <td>17</td>\n",
       "      <td>BRC</td>\n",
       "      <td>17</td>\n",
       "      <td>0</td>\n",
       "    </tr>\n",
       "    <tr>\n",
       "      <th>4</th>\n",
       "      <td>output_video_1_12</td>\n",
       "      <td>29</td>\n",
       "      <td>28</td>\n",
       "      <td>BK</td>\n",
       "      <td>28</td>\n",
       "      <td>0</td>\n",
       "    </tr>\n",
       "    <tr>\n",
       "      <th>5</th>\n",
       "      <td>output_video_1_17</td>\n",
       "      <td>3</td>\n",
       "      <td>3</td>\n",
       "      <td>BRC</td>\n",
       "      <td>3</td>\n",
       "      <td>0</td>\n",
       "    </tr>\n",
       "    <tr>\n",
       "      <th>6</th>\n",
       "      <td>output_video_2_11</td>\n",
       "      <td>4</td>\n",
       "      <td>3</td>\n",
       "      <td>BK</td>\n",
       "      <td>3</td>\n",
       "      <td>1</td>\n",
       "    </tr>\n",
       "    <tr>\n",
       "      <th>7</th>\n",
       "      <td>output_video_4_1</td>\n",
       "      <td>12</td>\n",
       "      <td>11</td>\n",
       "      <td>BK</td>\n",
       "      <td>11</td>\n",
       "      <td>1</td>\n",
       "    </tr>\n",
       "  </tbody>\n",
       "</table>\n",
       "</div>"
      ],
      "text/plain": [
       "                clip  count_BRC  count_BK primary_observer  primary_count  \\\n",
       "0  output_video_0_15          3         3              BRC              3   \n",
       "1   output_video_1_4         18        18              BRC             18   \n",
       "2   output_video_1_9         17        16               BK             16   \n",
       "3  output_video_1_11         17        17              BRC             17   \n",
       "4  output_video_1_12         29        28               BK             28   \n",
       "5  output_video_1_17          3         3              BRC              3   \n",
       "6  output_video_2_11          4         3               BK              3   \n",
       "7   output_video_4_1         12        11               BK             11   \n",
       "\n",
       "   secondary_count  \n",
       "0                0  \n",
       "1                0  \n",
       "2                1  \n",
       "3                0  \n",
       "4                0  \n",
       "5                0  \n",
       "6                1  \n",
       "7                1  "
      ]
     },
     "execution_count": 7,
     "metadata": {},
     "output_type": "execute_result"
    }
   ],
   "source": [
    "# import double observer data\n",
    "data = pd.read_csv('data/double_observer.csv')\n",
    "data"
   ]
  },
  {
   "cell_type": "code",
   "execution_count": 8,
   "id": "b49e23f2-cfd1-48e8-bba6-d14c93224ca5",
   "metadata": {},
   "outputs": [
    {
     "name": "stdout",
     "output_type": "stream",
     "text": [
      "41 3 0 58\n"
     ]
    }
   ],
   "source": [
    "# x_ij (where i = (1,2) and j = (1,2)) is the number of buffalo counted by observer i where observer j was the primary observer.\n",
    "# observer 1 = BRC, observer 2 = BK\n",
    "x_11 = data[data.primary_observer == 'BRC']['primary_count'].sum()\n",
    "x_12 = data[data.primary_observer == 'BK']['secondary_count'].sum()\n",
    "x_21 = data[data.primary_observer == 'BRC']['secondary_count'].sum()\n",
    "x_22 = data[data.primary_observer == 'BK']['primary_count'].sum()\n",
    "print(x_11, x_12, x_21, x_22)"
   ]
  },
  {
   "cell_type": "code",
   "execution_count": 9,
   "id": "0bbec953-e4bd-40ef-b645-720f02bb73e0",
   "metadata": {},
   "outputs": [],
   "source": [
    "# p_i = detection probability for observer i\n",
    "p_1 = ((x_11 * x_22) - (x_12 * x_21))/((x_11 * x_22) + (x_22 * x_21))\n",
    "p_2 = ((x_11 * x_22) - (x_12 * x_21))/((x_11 * x_22) + (x_11 * x_12))\n",
    "p_est = 1 - ((x_12 * x_21)/(x_22 * x_11))"
   ]
  },
  {
   "cell_type": "code",
   "execution_count": 10,
   "id": "1fe0e6de-ea3d-4b56-b2a9-2aa61c5f5fc3",
   "metadata": {},
   "outputs": [
    {
     "data": {
      "text/plain": [
       "1.0"
      ]
     },
     "execution_count": 10,
     "metadata": {},
     "output_type": "execute_result"
    }
   ],
   "source": [
    "# p_1 is the detection probability for observer 1, BRC\n",
    "p_1"
   ]
  },
  {
   "cell_type": "code",
   "execution_count": 17,
   "id": "4e209993-5745-4265-b00a-d704c2c00b80",
   "metadata": {},
   "outputs": [
    {
     "data": {
      "text/plain": [
       "0.9902912621359223"
      ]
     },
     "execution_count": 17,
     "metadata": {},
     "output_type": "execute_result"
    }
   ],
   "source": [
    "# Precision indicates the proportion of detected animals that were true animals (e.g. not double counts or other objects misidentified as animals)\n",
    "# We calculate precision by dividing the number of true animals (102) by the number counted by BRC\n",
    "actual_buffalo = 102\n",
    "precision = actual_buffalo/sum(data.count_BRC)\n",
    "\n",
    "# precision is the precision value for BRC\n",
    "precision"
   ]
  },
  {
   "cell_type": "code",
   "execution_count": 18,
   "id": "c9a00fdb-84e4-4333-9609-6e8292c725d8",
   "metadata": {},
   "outputs": [
    {
     "data": {
      "text/plain": [
       "674.3883495145631"
      ]
     },
     "execution_count": 18,
     "metadata": {},
     "output_type": "execute_result"
    }
   ],
   "source": [
    "# To get an adjusted count for the second round of review, we multiply the total number of animals counted by BRC (681) by the precision and detection probability values\n",
    "\n",
    "681*precision*p_1"
   ]
  },
  {
   "cell_type": "code",
   "execution_count": null,
   "id": "ec67ea21-69a3-40bd-8c35-2e83fa4b5341",
   "metadata": {},
   "outputs": [],
   "source": []
  }
 ],
 "metadata": {
  "kernelspec": {
   "display_name": "Python 3 (ipykernel)",
   "language": "python",
   "name": "python3"
  },
  "language_info": {
   "codemirror_mode": {
    "name": "ipython",
    "version": 3
   },
   "file_extension": ".py",
   "mimetype": "text/x-python",
   "name": "python",
   "nbconvert_exporter": "python",
   "pygments_lexer": "ipython3",
   "version": "3.10.12"
  }
 },
 "nbformat": 4,
 "nbformat_minor": 5
}
