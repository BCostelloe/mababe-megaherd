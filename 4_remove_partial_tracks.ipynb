{
 "cells": [
  {
   "cell_type": "markdown",
   "id": "6c97bfc6-3de0-49ed-921c-fd09bbd57d5e",
   "metadata": {},
   "source": [
    "This notebook reads in the raw trajectories file and removes any tracks that do not fully cross the 10-pixel buffer area around the count line."
   ]
  },
  {
   "cell_type": "code",
   "execution_count": 7,
   "id": "216f6a4a",
   "metadata": {},
   "outputs": [],
   "source": [
    "import numpy as np\n",
    "import pickle"
   ]
  },
  {
   "cell_type": "code",
   "execution_count": 8,
   "id": "d0be018e",
   "metadata": {},
   "outputs": [],
   "source": [
    "# Load raw tracks\n",
    "tracks = np.load(\"data/raw_tracks2.npy\", allow_pickle = True)"
   ]
  },
  {
   "cell_type": "code",
   "execution_count": 9,
   "id": "41c26741-c9fa-4e9a-9af6-cff8326f7e78",
   "metadata": {},
   "outputs": [
    {
     "data": {
      "text/plain": [
       "(4868,)"
      ]
     },
     "execution_count": 9,
     "metadata": {},
     "output_type": "execute_result"
    }
   ],
   "source": [
    "# Check how many tracks were initially generated\n",
    "np.shape(tracks)"
   ]
  },
  {
   "cell_type": "code",
   "execution_count": 3,
   "id": "6eee5c26",
   "metadata": {},
   "outputs": [],
   "source": [
    "# Keep any tracks that FULLY CROSS the count line and 10 pixel buffer area (start below the buffer area and stop above it). \n",
    "keep = np.zeros(tracks.shape, dtype = bool)\n",
    "for t, val in enumerate(tracks):\n",
    "    if (val['track'][:,0] <= 93).any() & (val['track'][:,0] > 102).any():\n",
    "        keep[t] = True\n",
    "\n",
    "new_tracks = tracks[keep]"
   ]
  },
  {
   "cell_type": "code",
   "execution_count": 10,
   "id": "4d102764",
   "metadata": {},
   "outputs": [
    {
     "data": {
      "text/plain": [
       "(2972,)"
      ]
     },
     "execution_count": 10,
     "metadata": {},
     "output_type": "execute_result"
    }
   ],
   "source": [
    "# Check how many tracks were retained\n",
    "np.shape(new_tracks)"
   ]
  },
  {
   "cell_type": "code",
   "execution_count": 11,
   "id": "451fc013",
   "metadata": {},
   "outputs": [],
   "source": [
    "# Save new tracks file\n",
    "np.save(\"data/retained_tracks.npy\", new_tracks)"
   ]
  }
 ],
 "metadata": {
  "kernelspec": {
   "display_name": "Python 3 (ipykernel)",
   "language": "python",
   "name": "python3"
  },
  "language_info": {
   "codemirror_mode": {
    "name": "ipython",
    "version": 3
   },
   "file_extension": ".py",
   "mimetype": "text/x-python",
   "name": "python",
   "nbconvert_exporter": "python",
   "pygments_lexer": "ipython3",
   "version": "3.10.12"
  }
 },
 "nbformat": 4,
 "nbformat_minor": 5
}
