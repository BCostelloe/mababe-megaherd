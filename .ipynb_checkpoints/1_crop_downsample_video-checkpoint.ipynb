{
 "cells": [
  {
   "cell_type": "markdown",
   "id": "271f6be2-fe2b-4c2b-8ff5-8634faf33712",
   "metadata": {},
   "source": [
    "This notebook extracts each frame of the original video, crops it to the \"count area\" (an area of 160 pixels * 2530 pixels near the bottom left corner of the frame), and then saves every 3rd frame (thus subsampling the video to a rate of 8 fps).\n",
    "\n",
    "**NOTE**: The original video clip is not provided with the dataset as it is proprietary imagery. The code here is provided merely for completeness, and so it can be readily adapted for similar applications."
   ]
  },
  {
   "cell_type": "code",
   "execution_count": 2,
   "id": "79ad26c8-87f8-4416-837c-26cf380537af",
   "metadata": {},
   "outputs": [],
   "source": [
    "import cv2\n",
    "import os\n",
    "import numpy as np\n",
    "import matplotlib.pyplot as plt"
   ]
  },
  {
   "cell_type": "code",
   "execution_count": 3,
   "id": "65359a1d-5e39-4aca-89a8-843490d02b0f",
   "metadata": {},
   "outputs": [],
   "source": [
    "def extract_frames(video_file, output_folder, fps):\n",
    "    # Create the output folder if it doesn't exist\n",
    "    if not os.path.exists(output_folder):\n",
    "        os.makedirs(output_folder)\n",
    "\n",
    "    # Open the video file\n",
    "    video = cv2.VideoCapture(video_file)\n",
    "\n",
    "    # Get the video's frame count and frame width/height\n",
    "    frame_count = int(video.get(cv2.CAP_PROP_FRAME_COUNT))\n",
    "    frame_width = int(video.get(cv2.CAP_PROP_FRAME_WIDTH))\n",
    "    frame_height = int(video.get(cv2.CAP_PROP_FRAME_HEIGHT))\n",
    "\n",
    "    # Extract and save each frame\n",
    "    for i in range(frame_count):\n",
    "        # Read the next frame\n",
    "        ret, frame = video.read()\n",
    "\n",
    "        # Crop the frame to the desired area\n",
    "        crop_img = frame[frame_height-350:frame_height-190, 0:2530]\n",
    "        \n",
    "        # Save the cropped frame to the output folder only if the frame number is a multiple of the desired frame rate\n",
    "        if i % (int(video.get(cv2.CAP_PROP_FPS))//fps) == 0:\n",
    "            cv2.imwrite(os.path.join(output_folder, \"frame_{0:0>5}.jpg\".format(i)), crop_img)\n",
    "\n",
    "    # Release the video file\n",
    "    video.release()"
   ]
  },
  {
   "cell_type": "code",
   "execution_count": 4,
   "id": "6b2e127a-d5d2-4eea-9eb7-0c4cd51a92a4",
   "metadata": {},
   "outputs": [],
   "source": [
    "# Specify video file location, folder in which to save cropped frames, and the desired frame rate (fps)\n",
    "video = \"video_path\" # NOTE: the original video is not provided in the dataset as it is proprietary imagery belonging to Netflix.\n",
    "save_folder = \"data/cropped_frames_8fps\"\n",
    "fps = 8"
   ]
  },
  {
   "cell_type": "code",
   "execution_count": 5,
   "id": "1c5d9b0b-5daa-40ab-88a5-21606048a684",
   "metadata": {},
   "outputs": [],
   "source": [
    "# Run the function\n",
    "extract_frames(video, save_folder, fps)"
   ]
  }
 ],
 "metadata": {
  "kernelspec": {
   "display_name": "Python 3 (ipykernel)",
   "language": "python",
   "name": "python3"
  },
  "language_info": {
   "codemirror_mode": {
    "name": "ipython",
    "version": 3
   },
   "file_extension": ".py",
   "mimetype": "text/x-python",
   "name": "python",
   "nbconvert_exporter": "python",
   "pygments_lexer": "ipython3",
   "version": "3.8.10"
  }
 },
 "nbformat": 4,
 "nbformat_minor": 5
}
