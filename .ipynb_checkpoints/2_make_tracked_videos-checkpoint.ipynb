{
 "cells": [
  {
   "cell_type": "markdown",
   "id": "f31aba53-bbd3-4c09-aa60-98353f04e0ec",
   "metadata": {},
   "source": [
    "This notebook generates videos of the megaherd with dots overlaid, representing movement trajectories of the animals. A countline can also be overlaid, and the points can be made to \"flash\" when they cross the countline. \n",
    "\n",
    "The code in this notebook was used to generate Supplemental Videos 1 and 2, and to generate the video that was divided into sections for manual review."
   ]
  },
  {
   "cell_type": "code",
   "execution_count": 37,
   "id": "26f566b2-6bd3-4d33-9a94-916cf04a612c",
   "metadata": {},
   "outputs": [],
   "source": [
    "import cv2\n",
    "import numpy as np\n",
    "import os\n",
    "import glob\n",
    "import matplotlib\n",
    "import matplotlib.pyplot as plt\n",
    "from tqdm.notebook import tqdm\n",
    "import distinctipy\n",
    "import random"
   ]
  },
  {
   "cell_type": "code",
   "execution_count": 38,
   "id": "2cf47dfd-fcbc-4e73-af4d-95dfef7e4f2c",
   "metadata": {},
   "outputs": [],
   "source": [
    "# Which frame images to use?\n",
    "frames_folder = \"data/cropped_frames_8fps\"\n",
    "frame_files = sorted(glob.glob(os.path.join(frames_folder, '*.jpg')))\n",
    "\n",
    "# Which tracks to overlay? Use 'data/raw_tracks2.npy' for Supplementary Video 1, use 'data/retained_tracks.npy' for\n",
    "# Supplementary Video 2 and the manual review video.\n",
    "tracks_file = 'data/retained_tracks.npy'\n",
    "tracks = np.load(tracks_file, allow_pickle = True)\n",
    "\n",
    "# Where to save the new video?\n",
    "video_name = \"figures_videos/review_video.mp4\"\n",
    "\n",
    "# Which countline to overlay? For Supplementary Video 1, use lines_file = None \n",
    "# For Supplementary Video 2, use lines_file = cv2.imread('countline_horizontal.png', cv2.IMREAD_UNCHANGED)\n",
    "# For review video, use lines_files = cv2.imread('countline_vert.png', cv2.IMREAD_UNCHANGED)\n",
    "\n",
    "lines_file = cv2.imread('countline_vert.png', cv2.IMREAD_UNCHANGED)\n",
    "#lines_file = None"
   ]
  },
  {
   "cell_type": "code",
   "execution_count": 39,
   "id": "d1a704d4-1bf9-47ae-881c-0ab8a5de0b1e",
   "metadata": {},
   "outputs": [],
   "source": [
    "# Give each trajectory an ID number\n",
    "for i, t in enumerate(tracks):\n",
    "    t['track_num'] = i"
   ]
  },
  {
   "cell_type": "code",
   "execution_count": 40,
   "id": "1d7c344e-f4de-4208-8f6a-f147445d7e95",
   "metadata": {},
   "outputs": [],
   "source": [
    "# Function to plot track dots, and optionally \"flash\"\n",
    "\n",
    "def plot_coordinates(image, coordinates, color_list, flash = True):\n",
    "    point_num = 0\n",
    "    for coord in coordinates:\n",
    "        y, x = coord\n",
    "        if flash == True:\n",
    "            if (y > 93) & (y<=95):\n",
    "                cv2.circle(image, (int(x), int(160-y)), 4, (0,255,255), 1)\n",
    "            elif (y > 95) & (y <=98):\n",
    "                cv2.circle(image, (int(x), int(160-y)), 5, (0,255,255), 1)\n",
    "            elif (y > 98) & (y <=102):\n",
    "                cv2.circle(image, (int(x), int(160-y)), 6, (0,255,255), 1)    \n",
    "        color = color_list[point_num][::-1]\n",
    "        color_rgb = tuple([int(c*255) for c in color]) \n",
    "        cv2.circle(image, (int(x), int(160-y)), 2, color_rgb, -1)\n",
    "        point_num = point_num+1\n",
    "    return image"
   ]
  },
  {
   "cell_type": "code",
   "execution_count": 41,
   "id": "d4250258-35b3-4280-8d65-ec38e5050958",
   "metadata": {},
   "outputs": [],
   "source": [
    "# Generate list of 25 colors for track dots\n",
    "colors = matplotlib.cm.rainbow(np.linspace(0, 1, 25))\n",
    "colors = [matplotlib.colors.to_rgb(i) for i in colors]\n",
    "max_length = len(tracks)\n",
    "q, r = divmod(max_length, len(colors))\n",
    "colors = q * colors + colors[:r]"
   ]
  },
  {
   "cell_type": "code",
   "execution_count": 42,
   "id": "0296fa10-7bbb-42e3-8a39-677023c798d6",
   "metadata": {
    "tags": []
   },
   "outputs": [
    {
     "data": {
      "application/vnd.jupyter.widget-view+json": {
       "model_id": "f07edd87c00d43878698680480044fa4",
       "version_major": 2,
       "version_minor": 0
      },
      "text/plain": [
       "  0%|          | 0/11041 [00:00<?, ?it/s]"
      ]
     },
     "metadata": {},
     "output_type": "display_data"
    }
   ],
   "source": [
    "# Create the video\n",
    "\n",
    "frame_num = 0\n",
    "frame_ref = cv2.imread(frame_files[0])\n",
    "height, width, layers = frame_ref.shape\n",
    "fps = 30\n",
    "fourcc = cv2.VideoWriter_fourcc(*'mp4v')\n",
    "video = cv2.VideoWriter(video_name, fourcc, fps, (width,height))\n",
    "for i in tqdm(frame_files):\n",
    "    frame = cv2.imread(i)\n",
    "    points = []\n",
    "    cols = []\n",
    "    for t in tracks:\n",
    "        num = t['track_num']\n",
    "        if (frame_num >= t['first_frame']) & (frame_num <= t['last_frame']):\n",
    "            temp_num = frame_num - t['first_frame']\n",
    "            new_point = t['track'][temp_num]\n",
    "            points.append(new_point)\n",
    "            cols.append(colors[num])\n",
    "    # Make flash = True for supplementary video 2, flash = False for supplementary video 1\n",
    "    new_image = plot_coordinates(frame, points, cols, flash = True)\n",
    "    if (lines_file == None).any():\n",
    "        video.write(new_image)\n",
    "    else:\n",
    "        alpha = lines_file[:,:,3]\n",
    "        alpha = cv2.merge([alpha, alpha, alpha])\n",
    "        front = lines_file[:,:,0:3]\n",
    "        result = np.where(alpha == (0,0,0), new_image, front)\n",
    "        video.write(result)\n",
    "    frame_num = frame_num +1\n",
    "cv2.destroyAllWindows()\n",
    "video.release()"
   ]
  },
  {
   "cell_type": "code",
   "execution_count": null,
   "id": "5ce832eb-8b11-407a-b7f2-b706b4f9418f",
   "metadata": {},
   "outputs": [],
   "source": []
  }
 ],
 "metadata": {
  "kernelspec": {
   "display_name": "Python 3 (ipykernel)",
   "language": "python",
   "name": "python3"
  },
  "language_info": {
   "codemirror_mode": {
    "name": "ipython",
    "version": 3
   },
   "file_extension": ".py",
   "mimetype": "text/x-python",
   "name": "python",
   "nbconvert_exporter": "python",
   "pygments_lexer": "ipython3",
   "version": "3.8.10"
  }
 },
 "nbformat": 4,
 "nbformat_minor": 5
}
